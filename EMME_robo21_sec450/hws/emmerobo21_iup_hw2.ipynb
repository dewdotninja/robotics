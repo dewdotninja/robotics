{
 "cells": [
  {
   "cell_type": "markdown",
   "metadata": {},
   "source": [
    "<div align=\"right\">August 2021</div>"
   ]
  },
  {
   "cell_type": "markdown",
   "metadata": {},
   "source": [
    "<a href=\"https://colab.research.google.com/github/dewdotninja/robotics/blob/master/EMME_robo21_sec450/hws/emmerobo21_iup_hw2.ipynb\" target=\"_parent\"><img src=\"https://colab.research.google.com/assets/colab-badge.svg\" alt=\"Open In Colab\"/></a>"
   ]
  },
  {
   "cell_type": "markdown",
   "metadata": {},
   "source": [
    "### 01211433 Homework 2\n",
    "\n",
    "Figure 1 shows a Scilab/Xcos simulation diagram for output disturbance attenuation at the plant output \n",
    "\n",
    "<p align=\"center\">\n",
    "<img src=\"https://drive.google.com/uc?id=1ptbNZTWM-39go6f8nHEW36cmfd7o6h_D\" width=600 alt=\"Figure 1\"/>\n",
    "</p>\n",
    "<div align=\"center\"><b>Figure 1 Scilab/Xcos diagram for output disturbance attenuation</b></div>\n",
    "\n",
    "Create similar simulation setup in Python using the same plant and controller as in Figure 1; i.e.,\n",
    "\n",
    "$$\n",
    "P(s) = \\frac{1}{10s^2+0.1s}\n",
    "$$ \n",
    "\n",
    "$$\n",
    "C(s) = \\frac{20000(s+0.01)}{(s+100)}\n",
    "$$.\n",
    "\n",
    "Since only disturbance attenuation performance is of interest, the step input can be discarded. The expected outputs are\n",
    "1. For step input disturbance, the output should approach zero at steady state.\n",
    "2. For low-frequency sinusoid disturbance, say, about 1 rad/s, output should be smaller in magnitude. \n",
    "\n",
    "<b>Remarks :</b> For simplicity, the disturbance signal may start at t = 0.\n",
    "\n",
    "##### Solution :\n",
    "\n",
    "For colab user, install Python Control Library by uncommenting this cell"
   ]
  },
  {
   "cell_type": "code",
   "execution_count": null,
   "metadata": {},
   "outputs": [],
   "source": [
    "#pip install control"
   ]
  },
  {
   "cell_type": "markdown",
   "metadata": {},
   "source": [
    "Import the required packages"
   ]
  },
  {
   "cell_type": "code",
   "execution_count": null,
   "metadata": {},
   "outputs": [],
   "source": [
    "import numpy as np\n",
    "import matplotlib.pyplot as plt\n",
    "import control as ctl"
   ]
  },
  {
   "cell_type": "markdown",
   "metadata": {},
   "source": [
    "Create the plant and controller"
   ]
  },
  {
   "cell_type": "code",
   "execution_count": null,
   "metadata": {},
   "outputs": [],
   "source": [
    "# Your code"
   ]
  },
  {
   "cell_type": "markdown",
   "metadata": {},
   "source": [
    "Determine and contstruct the transfer function from output disturbance $d_o(s)$ to plant output $y(s)$\n"
   ]
  },
  {
   "cell_type": "code",
   "execution_count": null,
   "metadata": {},
   "outputs": [],
   "source": [
    "# Your code"
   ]
  },
  {
   "cell_type": "markdown",
   "metadata": {},
   "source": [
    "Use plot_response() function below for plotting, with arguments\n",
    "\n",
    "* sys : transfer functtion mapping $d_o$ to $y$\n",
    "* u : a vector of disturbance signal $d_o$ of 1. nonzero constant value 2. low frequency sinusoid wave\n",
    "* t : time vector"
   ]
  },
  {
   "cell_type": "code",
   "execution_count": null,
   "metadata": {},
   "outputs": [],
   "source": [
    "# Plotting function. No need to change anything.\n",
    "def plot_response(sys,u,t,title=\"disturbance response\"):\n",
    "    tout, y = ctl.forced_response(sys,t, u)\n",
    "    truncated_idx = 150  # get rid of transient\n",
    "    tout = tout[truncated_idx:]\n",
    "    u = u[truncated_idx:]\n",
    "    y = y[truncated_idx:]\n",
    "    fig, (ax1, ax2) = plt.subplots(2, figsize=(8,8))\n",
    "    fig.suptitle(title)\n",
    "    ax1.plot(tout,u,'b-')\n",
    "    ax1.grid(True)\n",
    "    ax1.set_ylabel('input')\n",
    "    \n",
    "    ax2.plot(tout,y,'r-')\n",
    "    ax2.grid(True)\n",
    "    ax2.set_ylabel('output')\n",
    "    ax2.set_xlabel('time (sec)')\n",
    "\n",
    "    plt.show()    "
   ]
  },
  {
   "cell_type": "markdown",
   "metadata": {},
   "source": [
    "1. Create time vector, and a constant disturbance input $d_o = c$"
   ]
  },
  {
   "cell_type": "code",
   "execution_count": null,
   "metadata": {},
   "outputs": [],
   "source": [
    "t = # your code\n",
    "u = # your code\n"
   ]
  },
  {
   "cell_type": "markdown",
   "metadata": {},
   "source": [
    "Plot step disturbance response"
   ]
  },
  {
   "cell_type": "code",
   "execution_count": null,
   "metadata": {},
   "outputs": [],
   "source": [
    "plot_response(?,u,t) # Replace ? with the right closed-loop transfer function"
   ]
  },
  {
   "cell_type": "markdown",
   "metadata": {},
   "source": [
    "2. Use the time vector in 1. to construct a low-frequency sinusoid input vector  (say, 1 rad/s)"
   ]
  },
  {
   "cell_type": "code",
   "execution_count": null,
   "metadata": {},
   "outputs": [],
   "source": [
    "u = # your code"
   ]
  },
  {
   "cell_type": "markdown",
   "metadata": {},
   "source": [
    "Plot sinusoid disturbance response."
   ]
  },
  {
   "cell_type": "code",
   "execution_count": null,
   "metadata": {},
   "outputs": [],
   "source": [
    "plot_response(?,u,t) # Replace ? with the right closed-loop transfer function"
   ]
  },
  {
   "cell_type": "code",
   "execution_count": null,
   "metadata": {},
   "outputs": [],
   "source": []
  }
 ],
 "metadata": {
  "kernelspec": {
   "display_name": "Python 3.7 (controlenv)",
   "language": "python",
   "name": "controlenv"
  },
  "language_info": {
   "codemirror_mode": {
    "name": "ipython",
    "version": 3
   },
   "file_extension": ".py",
   "mimetype": "text/x-python",
   "name": "python",
   "nbconvert_exporter": "python",
   "pygments_lexer": "ipython3",
   "version": "3.7.9"
  }
 },
 "nbformat": 4,
 "nbformat_minor": 5
}
