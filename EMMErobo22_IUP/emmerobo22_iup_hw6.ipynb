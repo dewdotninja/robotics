{
 "cells": [
  {
   "cell_type": "markdown",
   "metadata": {},
   "source": [
    "<a href=\"https://colab.research.google.com/github/dewdotninja/robotics/blob/master/EMMErobo22_IUP/emmerobo22_iup_hw6.ipynb\" target=\"_parent\"><img src=\"https://colab.research.google.com/assets/colab-badge.svg\" alt=\"Open In Colab\"/></a>"
   ]
  },
  {
   "cell_type": "markdown",
   "metadata": {},
   "source": [
    "<p align=\"left\">\n",
    "<img src=\"https://raw.githubusercontent.com/dewdotninja/exams/main/feng_heading_en.png\" width=400 alt=\"Feng heading\"/>\n",
    "</p>\n",
    "\n",
    "#### Department of Mechanical Engineering\n",
    "\n",
    "### Homework 6, Academic Year 2022\n",
    "\n",
    "<br>**01211433  Vision and Control of Industrial Robots (International Undergraduate Program)**\n",
    "\n",
    "**Note :** Some section of this homework depends on digits <code>id_x, id_y, id_z<code> in your student ID\n",
    "\n",
    "<code>\n",
    "--------id_x,id_y, id_z\n",
    "</code>\n",
    "\n",
    "If any digit is 0, replace it by 5.\n",
    "\n",
    "Type student name - surname and ID in the cell below.\n"
   ]
  },
  {
   "cell_type": "code",
   "execution_count": null,
   "metadata": {},
   "outputs": [],
   "source": []
  },
  {
   "cell_type": "code",
   "execution_count": null,
   "metadata": {},
   "outputs": [],
   "source": [
    "id_x = \n",
    "id_y =\n",
    "id_z ="
   ]
  },
  {
   "cell_type": "code",
   "execution_count": null,
   "metadata": {},
   "outputs": [],
   "source": [
    "# You need to install this library in the Colab environment\n",
    "!pip install control"
   ]
  },
  {
   "cell_type": "code",
   "execution_count": 2,
   "metadata": {},
   "outputs": [],
   "source": [
    "# import libraries you want to use\n",
    "import numpy as np\n",
    "import matplotlib.pyplot as plt\n",
    "import control as ctl"
   ]
  },
  {
   "cell_type": "markdown",
   "metadata": {},
   "source": [
    "### P1\n",
    "\n",
    "Figure 1 is a block diagram example of servomotor connected to a robot joint. \n",
    "The diagram consists of both linear and nonlinear elements. A resonance block is also added to\n",
    "the mechanical subsystem. To compute a transfer function for this system, first this block diagram\n",
    "has to be “linearized” by removing all the saturation blocks. Then standard block reduction \n",
    "techniques can be applied. \n",
    "\n",
    "<p align=\"center\">\n",
    "<img src=\"https://drive.google.com/uc?id=1P1DYlMxDpw_nwrj0LIG8GqNT8e_dj5wa\" width=600 alt=\"Figure 1\"/>\n",
    "</p>\n",
    "<div align=\"center\"><b>Figure 1 block diagram of servomotor connected to a robot joint</b></div>\n",
    "\n",
    "\n",
    "Let us consider the whole system as 2 transfer functions connected in series. The first transfer \n",
    "function $P_{xv}$  contains servo amp and motor blocks (upper part in Figure 1), and the second \n",
    "$P_{\\theta x}$  represents mechanical subsystem. It can be derived that \n",
    "\n",
    "$$\n",
    "P_{xv} = \\frac{k_{a1}k_{a2}k_{m1}k_{m2}}{\\tau s + 1 + k_{a2}k_{m1}} \\tag{1}\n",
    "$$\n",
    "\n",
    "$$\n",
    "P_{\\theta x} = \\frac{(\\tau s+1+k_{a2}k_{m1})^2((1-J_m\\omega_n^2)s^2+2\\zeta\\omega_ns+\\omega_n^2)}{s((J_ms+B_m)(\\tau s+1+k_{a2}k_{m1})^2+(\\tau s+1)k_{m1}k_{m2}k_e)(s^2+2\\zeta\\omega_ns+\\omega_n^2)} \\tag{2}\n",
    "$$\n",
    "\n",
    "Multiply them to get the overall transfer function  \n",
    "\n",
    "$$\n",
    "P_{\\theta v} = \\frac{k_{a1}k_{a2}k_{m1}k_{m2}(\\tau s+1+k_{a2}k_{m1})((1-J_m\\omega_n^2)s^2+2\\zeta\\omega_ns+\\omega_n^2)}{s((J_ms+B_m)(\\tau s+1+k_{a2}k_{m1})^2+(\\tau s+1)k_{m1}k_{m2}k_e)(s^2+2\\zeta\\omega_ns+\\omega_n^2)} \\tag{3}\n",
    "$$\n",
    "\n"
   ]
  },
  {
   "cell_type": "markdown",
   "metadata": {},
   "source": [
    "**P1.1** Assign parameter values to create a plant transfer \n",
    "function $P_{\\theta v}$ as in (3) (2 points)"
   ]
  },
  {
   "cell_type": "code",
   "execution_count": 15,
   "metadata": {},
   "outputs": [],
   "source": [
    "ka1=0.5\n",
    "ka2=1000\n",
    "km1=0.1471\n",
    "km2=0.26\n",
    "ke=0.2\n",
    "Jm=0.002\n",
    "Bm=0.001\n",
    "kr=1\n",
    "tau=0.004\n",
    "omega_n = 10*np.pi*id_x\n",
    "zeta = 0.2"
   ]
  },
  {
   "cell_type": "markdown",
   "metadata": {},
   "source": [
    "#### Solution"
   ]
  },
  {
   "cell_type": "code",
   "execution_count": null,
   "metadata": {},
   "outputs": [],
   "source": []
  },
  {
   "cell_type": "code",
   "execution_count": null,
   "metadata": {},
   "outputs": [],
   "source": []
  },
  {
   "cell_type": "code",
   "execution_count": null,
   "metadata": {},
   "outputs": [],
   "source": []
  },
  {
   "cell_type": "markdown",
   "metadata": {},
   "source": [
    "**P1.2** Use the LSID code from https://github.com/dewdotninja/control_python/blob/main/lsid.ipynb \n",
    "to estimate the plant in P1.1. The measurement noise may be adjusted to some realistic level such as 0.1. \n",
    "Choose model order according to this criteria. (5 points)\n",
    "\n",
    "```python\n",
    "model_order = id_y + id_z\n",
    "if model_order<3:\n",
    "    model_order = 3\n",
    "elif model_order>9:\n",
    "    model_order = 9\n",
    "\n",
    "```\n",
    "\n",
    "#### Solution"
   ]
  },
  {
   "cell_type": "code",
   "execution_count": null,
   "metadata": {},
   "outputs": [],
   "source": []
  },
  {
   "cell_type": "code",
   "execution_count": null,
   "metadata": {},
   "outputs": [],
   "source": []
  },
  {
   "cell_type": "code",
   "execution_count": null,
   "metadata": {},
   "outputs": [],
   "source": []
  },
  {
   "cell_type": "markdown",
   "metadata": {},
   "source": [
    "**P 1.3** Compare Bode plot between real plant and LSID model (3 points)\n",
    "\n",
    "#### Solution"
   ]
  },
  {
   "cell_type": "code",
   "execution_count": null,
   "metadata": {},
   "outputs": [],
   "source": []
  },
  {
   "cell_type": "code",
   "execution_count": null,
   "metadata": {},
   "outputs": [],
   "source": []
  },
  {
   "cell_type": "code",
   "execution_count": null,
   "metadata": {},
   "outputs": [],
   "source": []
  },
  {
   "cell_type": "code",
   "execution_count": null,
   "metadata": {},
   "outputs": [],
   "source": []
  },
  {
   "cell_type": "code",
   "execution_count": null,
   "metadata": {},
   "outputs": [],
   "source": []
  },
  {
   "cell_type": "code",
   "execution_count": null,
   "metadata": {},
   "outputs": [],
   "source": []
  },
  {
   "cell_type": "code",
   "execution_count": null,
   "metadata": {},
   "outputs": [],
   "source": []
  },
  {
   "cell_type": "code",
   "execution_count": null,
   "metadata": {},
   "outputs": [],
   "source": []
  },
  {
   "cell_type": "code",
   "execution_count": null,
   "metadata": {},
   "outputs": [],
   "source": []
  },
  {
   "cell_type": "code",
   "execution_count": null,
   "metadata": {},
   "outputs": [],
   "source": []
  },
  {
   "cell_type": "code",
   "execution_count": null,
   "metadata": {},
   "outputs": [],
   "source": []
  },
  {
   "cell_type": "markdown",
   "metadata": {},
   "source": [
    "***\n",
    "Last update : Sep 11, 2022"
   ]
  },
  {
   "cell_type": "code",
   "execution_count": null,
   "metadata": {},
   "outputs": [],
   "source": []
  }
 ],
 "metadata": {
  "kernelspec": {
   "display_name": "Python 3.10 (tensorflow)",
   "language": "python",
   "name": "tensorflow"
  },
  "language_info": {
   "codemirror_mode": {
    "name": "ipython",
    "version": 3
   },
   "file_extension": ".py",
   "mimetype": "text/x-python",
   "name": "python",
   "nbconvert_exporter": "python",
   "pygments_lexer": "ipython3",
   "version": "3.10.4"
  }
 },
 "nbformat": 4,
 "nbformat_minor": 4
}
