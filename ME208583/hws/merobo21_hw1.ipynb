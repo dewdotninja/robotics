{
 "cells": [
  {
   "cell_type": "markdown",
   "id": "assisted-elizabeth",
   "metadata": {},
   "source": [
    "<div align=\"right\">March 2021</div>"
   ]
  },
  {
   "cell_type": "markdown",
   "id": "curious-authorization",
   "metadata": {},
   "source": [
    "<a href=\"https://colab.research.google.com/github/dewdotninja/robotics/blob/master/ME208583/merobo21_hw1.ipynb\" target=\"_parent\"><img src=\"https://colab.research.google.com/assets/colab-badge.svg\" alt=\"Open In Colab\"/></a>"
   ]
  },
  {
   "cell_type": "markdown",
   "id": "behavioral-evaluation",
   "metadata": {},
   "source": [
    "### 01208583 Homework # 1\n",
    "\n",
    "Using RTSX toolbox, below is Scilab script to plot 3-segment quintic polynomial trajectory in Figure 1\n",
    "\n",
    "<p align=\"center\">\n",
    "<img src=\"https://drive.google.com/uc?id=1--OfmHoZrsxn7S1lJXVLUuI00Rh2cUeC\" width=500 alt=\"Figure 1\"/>\n",
    "</p>\n",
    "<div align=\"center\"><b>Figure 1 3-segment quintic polynomial trajectory</b></div>"
   ]
  },
  {
   "cell_type": "code",
   "execution_count": null,
   "id": "handy-slave",
   "metadata": {},
   "outputs": [],
   "source": [
    "// #Scilab script example. Do not run this cell.\n",
    "// #command trajectory generation\n",
    "\n",
    "t1=0:0.01:1.99;\n",
    "t2 = 0:0.01:0.99;\n",
    "\n",
    "// joint 1 trajectory\n",
    "[q11,qd11,qdd11]=qpoly(0,10,t1,0,10);  // segment 1\n",
    "[q12,qd12,qdd12]=qpoly(10,-5,t1,10,-5);  // segment 2\n",
    "[q13,qd13,qdd13]=qpoly(-5,0,t2,-5,0);  // segment 3\n",
    "\n",
    "q1 = [q11;q12;q13];     // position (angles)\n",
    "qd1 = [qd11;qd12;qd13];  // velocity\n",
    "qdd1 = [qdd11;qdd12;qdd13];  // acceleration\n",
    "\n",
    "t=0:0.01:4.99;\n",
    "t=t';\n",
    "\n",
    "figure(1);\n",
    "subplot(311), plot(t, q1,'r-')\n",
    "//xlabel('time (sec)')\n",
    "ylabel('angles')\n",
    "\n",
    "subplot(312), plot(t, qd1,'b-')\n",
    "//xlabel('time (sec)')\n",
    "ylabel('velocity')\n",
    "\n",
    "subplot(313), plot(t, qdd1, 'g-')\n",
    "xlabel('time (sec)')\n",
    "ylabel('acceleration')\n"
   ]
  },
  {
   "cell_type": "markdown",
   "id": "original-discrimination",
   "metadata": {},
   "source": [
    "Here is the Scilab script for qpoly function"
   ]
  },
  {
   "cell_type": "code",
   "execution_count": null,
   "id": "brown-handy",
   "metadata": {},
   "outputs": [],
   "source": [
    "// #Scilab script. Do not run this cell.\n",
    "function [s,sd,sdd] = qpoly(q0, qf, t, qd0, qdf)\n",
    "\n",
    "    t0 = t;\n",
    "    nargin=argn(2);\n",
    "    nargout = argn(1);\n",
    "    if isscalar(t)\n",
    "\t\tt = (0:t-1)';\n",
    "    else\n",
    "        t = t(:);\n",
    "    end\n",
    "    if nargin < 4\n",
    "        qd0 = 0;\n",
    "    end\n",
    "    if nargin < 5\n",
    "        qdf = 0;\n",
    "    end\n",
    "    \n",
    "    tf = max(t);\n",
    "    \n",
    "    // solve for the polynomial coefficients using least squares\n",
    "    X = [\n",
    "        0           0           0         0       0   1\n",
    "        tf^5        tf^4        tf^3      tf^2    tf  1\n",
    "        0           0           0         0       1   0\n",
    "        5*tf^4      4*tf^3      3*tf^2    2*tf    1   0\n",
    "        0           0           0         2       0   0\n",
    "        20*tf^3     12*tf^2     6*tf      2       0   0\n",
    "    ];\n",
    "    b = [q0 qf qd0 qdf 0 0]';\n",
    "    coeffs = (inv(X)*b)';    \n",
    "    // coefficients of derivatives \n",
    "    coeffs_d = coeffs(1:5) .* (5:-1:1);\n",
    "    coeffs_dd = coeffs_d(1:4) .* (4:-1:1);\n",
    "\n",
    "    // evaluate the polynomials\n",
    "    p = polyval(coeffs, t);\n",
    "    pd = polyval(coeffs_d, t);\n",
    "    pdd = polyval(coeffs_dd, t);\n",
    "\n",
    "    select nargout\n",
    "\n",
    "        case 1\n",
    "            s = p;\n",
    "        case 2\n",
    "            s = p;\n",
    "            sd = pd;\n",
    "        case 3\n",
    "            s = p;\n",
    "            sd = pd;\n",
    "            sdd = pdd;\n",
    "    end\n",
    "    \n",
    "endfunction"
   ]
  },
  {
   "cell_type": "markdown",
   "id": "nervous-feeding",
   "metadata": {},
   "source": [
    "Use Python to generate the same trajectory. Plot position, velocity, and acceleration. The result should look like \n",
    "Figure 2 below.\n",
    "\n",
    "<p align=\"center\">\n",
    "<img src=\"https://drive.google.com/uc?id=1gCZma5Pixrfl1hvQxl9Yc1F0Wp0XtwUp\" width=500 alt=\"Figure 2\"/>\n",
    "</p>\n",
    "<div align=\"center\"><b>Figure 2 3-segment quintic polynomial trajectory using numpy and matplotlib</b></div>\n",
    "\n",
    "For simplicity, assume that t argument is always a vector in qpoly() function\n",
    "\n"
   ]
  },
  {
   "cell_type": "markdown",
   "id": "flexible-ferry",
   "metadata": {},
   "source": [
    "### Useful functions\n",
    "\n",
    "<ul>\n",
    "<li /><em>np.array()</em> : Create Numpy array\n",
    "<li /><em>np.linalg.inv()</em> : Compute matrix inversion\n",
    "<li /><em>np.hstack()</em> : Stack vector horizontally\n",
    "<li /><em>np.arange()</em> : generate a vector with specified start, end, and step\n",
    "</ul>\n"
   ]
  },
  {
   "cell_type": "markdown",
   "id": "exclusive-hydrogen",
   "metadata": {},
   "source": [
    "### Solution"
   ]
  },
  {
   "cell_type": "code",
   "execution_count": null,
   "id": "surprising-schema",
   "metadata": {},
   "outputs": [],
   "source": [
    "import numpy as np\n",
    "import matplotlib.pyplot as plt"
   ]
  },
  {
   "cell_type": "code",
   "execution_count": null,
   "id": "talented-chambers",
   "metadata": {},
   "outputs": [],
   "source": [
    "# --- Graded cell : fill in the missing code ---\n",
    "\n",
    "# define quintic polynomial function\n",
    "def qpoly(q0,qf,t,qd0=0, qdf=0):\n",
    "    tf = max(t)\n",
    "    X = np.array(#your code here)\n",
    "    b = np.array(#your code here)\n",
    "    coeffs = # your code here\n",
    "\n",
    "    # coefficients of derivatives\n",
    "    coeffs_d = coeffs[0:5]*np.arange(5,0,-1)\n",
    "    coeffs_dd = coeffs_d[0:4]*np.arange(4,0,-1)\n",
    "    q = polyval(coeffs,t)\n",
    "    q_d = polyval(coeffs_d,t)\n",
    "    q_dd = polyval(coeffs_dd,t)\n",
    "    return q,q_d,q_dd\n",
    "    "
   ]
  },
  {
   "cell_type": "code",
   "execution_count": null,
   "id": "white-distinction",
   "metadata": {},
   "outputs": [],
   "source": [
    "# helper function to evaluate polynomial. You don't need to add any code to this function.\n",
    "def polyval(P,X):\n",
    "    Y = 0*X\n",
    "    n = len(P)\n",
    "    for i in range(n):\n",
    "        Y = Y +P[i]*X**(n-i-1)\n",
    "    return Y"
   ]
  },
  {
   "cell_type": "code",
   "execution_count": null,
   "id": "developed-messenger",
   "metadata": {},
   "outputs": [],
   "source": [
    "# generate trajectory for each segment.\n",
    "t1 = np.arange(0,2,0.01)\n",
    "t2 = np.arange(0,1,0.01)\n",
    "q11,qd11,qdd11 = qpoly(0,10,t1,0,10)\n",
    "q12,qd12,qdd12 = qpoly(10,-5,t1,10,-5)\n",
    "q13,qd13,qdd13 = qpoly(-5,0,t2,-5,0)"
   ]
  },
  {
   "cell_type": "code",
   "execution_count": null,
   "id": "tamil-marina",
   "metadata": {},
   "outputs": [],
   "source": [
    "# --- Graded cell : fill in the missing code ---\n",
    "\n",
    "# join the segments\n",
    "q1 = # your code here\n",
    "qd1 = # your code here\n",
    "qdd1 = # your code here\n",
    "t = np.arange(0,5,0.01)\n"
   ]
  },
  {
   "cell_type": "code",
   "execution_count": null,
   "id": "pleasant-comment",
   "metadata": {},
   "outputs": [],
   "source": [
    "# plot the trajectory.\n",
    "fig, (ax1, ax2, ax3) = plt.subplots(3, figsize=(8,8))\n",
    "fig.suptitle('3-segment quintic polynomial')\n",
    "ax1.plot(t,q1,'b-')\n",
    "ax1.grid(True)\n",
    "ax1.set_ylabel('Joint angles')\n",
    "\n",
    "ax2.plot(t,qd1,'b-')\n",
    "ax2.grid(True)\n",
    "ax2.set_ylabel('Joint velocity')\n",
    "\n",
    "ax3.plot(t,qdd1,'r-')\n",
    "ax3.set_xlabel('time (s)')\n",
    "ax3.set_ylabel('Joint acceleration')\n",
    "ax3.grid(True)\n"
   ]
  },
  {
   "cell_type": "code",
   "execution_count": null,
   "id": "unusual-immunology",
   "metadata": {},
   "outputs": [],
   "source": []
  },
  {
   "cell_type": "code",
   "execution_count": null,
   "id": "expressed-desperate",
   "metadata": {},
   "outputs": [],
   "source": []
  }
 ],
 "metadata": {
  "kernelspec": {
   "display_name": "Python 3.8 (controlenv)",
   "language": "python",
   "name": "controlenv"
  },
  "language_info": {
   "codemirror_mode": {
    "name": "ipython",
    "version": 3
   },
   "file_extension": ".py",
   "mimetype": "text/x-python",
   "name": "python",
   "nbconvert_exporter": "python",
   "pygments_lexer": "ipython3",
   "version": "3.8.5"
  }
 },
 "nbformat": 4,
 "nbformat_minor": 5
}
