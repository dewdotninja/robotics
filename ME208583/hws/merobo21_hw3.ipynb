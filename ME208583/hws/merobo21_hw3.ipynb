{
 "cells": [
  {
   "cell_type": "markdown",
   "metadata": {},
   "source": [
    "<div align=\"right\">April 2021</div>"
   ]
  },
  {
   "cell_type": "markdown",
   "metadata": {},
   "source": [
    "<a href=\"https://colab.research.google.com/github/dewdotninja/robotics/blob/master/ME208583/hws/merobo21_hw3.ipynb\" target=\"_parent\"><img src=\"https://colab.research.google.com/assets/colab-badge.svg\" alt=\"Open In Colab\"/></a>"
   ]
  },
  {
   "cell_type": "markdown",
   "metadata": {},
   "source": [
    "### 01208583 Homework # 3\n",
    "\n",
    "<b>Requirement : </b> Python 3 with Python control systems library\n",
    "<p />Execute the commands below to install Python control systems library in Colab    \n"
   ]
  },
  {
   "cell_type": "code",
   "execution_count": null,
   "metadata": {},
   "outputs": [],
   "source": [
    "!pip install slycot"
   ]
  },
  {
   "cell_type": "code",
   "execution_count": null,
   "metadata": {},
   "outputs": [],
   "source": [
    "!pip install control"
   ]
  },
  {
   "cell_type": "markdown",
   "metadata": {},
   "source": [
    "Import the required libraries"
   ]
  },
  {
   "cell_type": "code",
   "execution_count": 1,
   "metadata": {},
   "outputs": [],
   "source": [
    "import numpy as np\n",
    "import matplotlib.pyplot as plt\n",
    "import control as ctl"
   ]
  },
  {
   "cell_type": "code",
   "execution_count": null,
   "metadata": {},
   "outputs": [],
   "source": [
    "<b> Problem: </b> Instead of designing a controller, let us use a PID controller\n",
    "$$\n",
    "C(s) = K_p + \\frac{K_i}{s} + \\frac{NK_d}{N/s+1}\n",
    "$$\n",
    "<div align=\"right\">(1)</div>\n",
    "    \n",
    "for our same old robot joint driven by DC motor developed since the first module\n",
    "\n",
    "\\begin{equation} \n",
    "P(s) = \\frac{1}{5s^2 + 0.02s}\n",
    "\\end{equation}\n",
    "<div align=\"right\">(2)</div>\n",
    "\n",
    "with the same design specs as in Homework 2\n",
    "<ol>\n",
    "<li> steady state error is eliminated </li>\n",
    "<li> low frequency disturbance is attenuated at least 0.02 below 3 rad/s </li>\n",
    "<li> high frequency measurement noise is attenuated 0.05 above 200 rad/s </li>\n",
    "<li> closed-loop stable, with phase margin at least 40 degrees </li>\n",
    "</ol>\n",
    "\n",
    "<p />From the above discussion, this can be translated to stability and performance bounds\n",
    "\n",
    "<ol>\n",
    "<li> $L(s)$ has an integrator. Note that $P(s)$ already has one</li>\n",
    "<li> $|S(j\\omega)| \\leq ? dB \\rightarrow |L(j\\omega)| \\geq ? dB$ below 3 rad/s</li>\n",
    "<li> $|T(j\\omega)| \\leq ? dB \\rightarrow |L(j\\omega)| \\leq ? dB$ above 200 rad/s</li>\n",
    "<li> $L(j\\omega)$ has at least 40 degrees phase margin, or $max|S(j\\omega)|\\leq 3.3 dB$<b>*</b></li>\n",
    "</ol>\n",
    "\n",
    "\n",
    "<p />Use the same function lshape() in the cell below. \n"
   ]
  },
  {
   "cell_type": "code",
   "execution_count": 2,
   "metadata": {},
   "outputs": [],
   "source": [
    "def lshape(C,P, lf, lfb, hf, hfb, pm ):\n",
    "    assert lf > 0   # avoid bad values\n",
    "    assert lfb > 0\n",
    "    assert hf > lf\n",
    "    assert hfb < 0\n",
    "    assert 0 < pm < 90\n",
    "    L = C*P # form loop transfer function\n",
    "    # create a suitable range of frequency from lf, hf\n",
    "    lf_log10 = np.log10(lf)\n",
    "    w_start = np.floor(lf_log10)-1\n",
    "    hf_log10 = np.log10(hf)\n",
    "    w_end = np.ceil(hf_log10)+1\n",
    "    w = np.logspace(w_start,w_end, 1000)\n",
    "    \n",
    "    # frequency response of L\n",
    "    Lmag, Lph, om = ctl.freqresp(L, w)\n",
    "    Lmag_db = np.squeeze(20*np.log10(Lmag))\n",
    "    Lph_deg = np.squeeze(np.degrees(Lph))\n",
    "    \n",
    "    # create bound vectors\n",
    "    lf_mask = np.where(om<lf, lfb, 0)\n",
    "    hf_mask = np.where(om<hf, 0, hfb)\n",
    "    lf_bnd = lf_mask*np.ones(om.shape)\n",
    "    hf_bnd = hf_mask*np.ones(om.shape)\n",
    "    \n",
    "    # check whether violation occurs\n",
    "    lf_idxv = np.where(om>lf)\n",
    "    lf_idx = lf_idxv[0][0]   # find index of low-freq region\n",
    "    hf_idxv = np.where(om<hf)\n",
    "    hf_idx = hf_idxv[0][-1]  # find index of high-freq region\n",
    "    lfmag = Lmag_db[:lf_idx]\n",
    "    hfmag = Lmag_db[hf_idx:]\n",
    "    if min(lfmag)<lfb:\n",
    "        lf_legend = \"LF bound (violated)\"\n",
    "    else:\n",
    "        lf_legend = \"LF bound\"\n",
    "    if max(hfmag)>hfb:\n",
    "        hf_legend = \"HF bound (violated)\"\n",
    "    else:\n",
    "        hf_legend = \"HF bound\"    \n",
    "    \n",
    "    # desired phase margin vectors\n",
    "    pmvec = (pm-180)*np.ones(om.shape)\n",
    "    \n",
    "    # compute gain/phase margins\n",
    "    g_margin, ph_margin, wgm, wpm = ctl.margin(L)\n",
    "    ph_at_crossover = (ph_margin-180)\n",
    "    # Loopshaping plot\n",
    "    fig, (ax1, ax2) = plt.subplots(2, figsize=(8,8))\n",
    "    fig.suptitle('$L(j\\omega)$ v.s. bounds')\n",
    "    ax1.semilogx(om, Lmag_db,'k-', om, lf_bnd, 'm-.', om, hf_bnd,'b-.')\n",
    "    ax1.legend([\"$|L(j\\omega)|$\",lf_legend,hf_legend],loc=\"lower left\")\n",
    "    ax1.grid(True)\n",
    "    ax1.set_ylabel('magnitude (dB)')\n",
    "    \n",
    "    ax2.semilogx(om, Lph_deg,'k-',om, pmvec,'b-', wpm, ph_at_crossover,'r*')\n",
    "    if ph_margin > pm:\n",
    "        pmtext = \"phase margin = \" + str(round(ph_margin)) + \" degrees\"\n",
    "    else:\n",
    "        pmtext = \"phase margin = \" + str(round(ph_margin)) + \" degrees (violated)\"\n",
    "        \n",
    "    ax2.text(wpm,ph_at_crossover,pmtext)\n",
    "    \n",
    "    dpmtext = \"Desired PM (\" + str(pm) + \" degrees)\"\n",
    "    ax2.set_xlabel('frequency (rad/s)')\n",
    "    ax2.set_ylabel('phase (deg)')\n",
    "    ax2.legend([\"$\\measuredangle L(j\\omega)$\",dpmtext],loc=\"lower left\")\n",
    "    ax2.grid(True)    \n",
    "    \n",
    "    # plot magnitude of S and T v.s bounds\n",
    "    S = 1/(1+L)\n",
    "    T = L/(1+L)\n",
    "    \n",
    "    # frequency responses of S and T\n",
    "    Smag, Sph, om = ctl.freqresp(S, w)\n",
    "    Tmag, Tph, om = ctl.freqresp(T, w)\n",
    "    \n",
    "    Smag_db = np.squeeze(20*np.log10(Smag))\n",
    "    Tmag_db = np.squeeze(20*np.log10(Tmag))\n",
    "   \n",
    "    # check whether violation occurs\n",
    "    lf_idxv = np.where(om>lf)\n",
    "    lf_idx = lf_idxv[0][0]   # find index of low-freq region\n",
    "    hf_idxv = np.where(om<hf)\n",
    "    hf_idx = hf_idxv[0][-1]  # find index of high-freq region\n",
    "    lfSmag = Smag_db[:lf_idx]\n",
    "    hfTmag = Tmag_db[hf_idx:]\n",
    "    if max(lfSmag)>-lfb:\n",
    "        lf_legend = \"LF bound (violated)\"\n",
    "    else:\n",
    "        lf_legend = \"LF bound\"\n",
    "    if max(hfTmag)>hfb:\n",
    "        hf_legend = \"HF bound (violated)\"\n",
    "    else:\n",
    "        hf_legend = \"HF bound\"    \n",
    "        \n",
    "    # create data vector for stability bound in mid freq region\n",
    "    \n",
    "    om_mid = om[lf_idx:hf_idx]\n",
    "    pm_r = np.radians(pm)\n",
    "    x = np.sin(0.5*(np.pi - pm_r))/(np.sin(pm_r)) \n",
    "    x = 20*np.log10(x)\n",
    "    bnds_mid = x*np.ones(om_mid.shape)\n",
    "    \n",
    "    ST_peak = max(max(Smag_db),max(Tmag_db))\n",
    "    if ST_peak > x:\n",
    "        mf_legend = \"Stability bound (violated)\"\n",
    "    else:\n",
    "        mf_legend = \"Stability bound\"\n",
    "    \n",
    "    plt.figure(figsize=(8,4))\n",
    "    plt.semilogx(om,Smag_db,'k-',om,Tmag_db,'g-',om,-lf_bnd,'m-.',om,hf_bnd,'b-.',om_mid,bnds_mid,'r-.')\n",
    "    plt.xlabel('frequency (rad/s)')\n",
    "    plt.ylabel('magnitude (dB)')\n",
    "    plt.legend([\"$|S(j\\omega)|$\",\"$|T(j\\omega)|$\",lf_legend,hf_legend, mf_legend])\n",
    "    plt.grid(True)\n",
    "    plt.title('$|S(j\\omega)|$ and $|T(j\\omega)|$ v.s. bounds')\n",
    "    plt.show()\n"
   ]
  },
  {
   "cell_type": "markdown",
   "metadata": {},
   "source": [
    "where the arguments are as follows:\n",
    "<ul>\n",
    "<li /><b>C : </b>Controller\n",
    "<li /><b>P : </b>Plant\n",
    "<li /><b>lf : </b>Define low frequency region from 0 - lf (rad/s)\n",
    "<li /><b>lfb : </b>Low frequency bound for $L(s)$\n",
    "<li /><b>hf : </b>Define high frequency region from hf - $\\infty$ (rad/s)\n",
    "<li /><b>hfb : </b>High frequency bound for $L(s)$\n",
    "<li /><b>pm : </b>Phase margin (degrees)\n",
    "</ul>\n",
    "    "
   ]
  },
  {
   "cell_type": "code",
   "execution_count": 4,
   "metadata": {},
   "outputs": [
    {
     "data": {
      "text/latex": [
       "$$\\frac{1}{5 s^2 + 0.02 s}$$"
      ],
      "text/plain": [
       "TransferFunction(array([1]), array([5.  , 0.02, 0.  ]))"
      ]
     },
     "execution_count": 4,
     "metadata": {},
     "output_type": "execute_result"
    }
   ],
   "source": [
    "# create the plant\n",
    "s = ctl.tf('s')\n",
    "P = 1/(5*s**2 + 0.02*s)\n",
    "P"
   ]
  },
  {
   "cell_type": "markdown",
   "metadata": {},
   "source": [
    "Fill in the frequencies and bounds computed above"
   ]
  },
  {
   "cell_type": "code",
   "execution_count": null,
   "metadata": {},
   "outputs": [],
   "source": [
    "# Graded assignment \n",
    "lf = # low frequency here\n",
    "lfb = # your answer \n",
    "hf = # high frequency here\n",
    "hfb = # your answer\n",
    "pm = 40\n"
   ]
  },
  {
   "cell_type": "code",
   "execution_count": null,
   "metadata": {},
   "outputs": [],
   "source": [
    "# use PID controller in place of linear control\n",
    "# Graded assignment : adjust the following PID gains and filter coefficient\n",
    "# to meet all the specifications\n",
    "Kp = \n",
    "Ki = \n",
    "Kd = \n",
    "N = 100\n",
    "cnum = [Kp+N*Kd, Kp*N+Ki, Ki*N] \n",
    "cden = [1, N, 0]\n",
    "C= ctl.tf(cnum,cden)\n",
    "\n",
    "lshape(C,P, lf, lfb, hf, hfb,pm )"
   ]
  },
  {
   "cell_type": "markdown",
   "metadata": {},
   "source": [
    "<b>Instruction : </b> Adjust hte PID gains, iterate the above cell until you achieve a controller that meets the specs.\n",
    "\n",
    "Then plot the closed-loop step response (adjust tvec if necessary)"
   ]
  },
  {
   "cell_type": "code",
   "execution_count": null,
   "metadata": {},
   "outputs": [],
   "source": [
    "L = C*P\n",
    "T = L/(1+L)\n",
    "tvec = np.arange(0,1.0,0.01)\n",
    "r = np.ones(tvec.shape)\n",
    "tout, y = ctl.step_response(T,tvec)\n",
    "plt.figure(figsize=(8,4))\n",
    "plt.plot(tout,r,'b-.',tout,y,'r-')\n",
    "plt.grid('True')\n",
    "plt.xlabel('time (sec)')\n",
    "plt.ylabel('output')\n",
    "plt.legend(['step ref.','y(t)'])\n",
    "plt.title('Closed-loop step response')\n",
    "plt.show()"
   ]
  },
  {
   "cell_type": "markdown",
   "metadata": {},
   "source": [
    "To make sure that this design meets all the specification, the disturbance and noise responses in the time-domain need to be \n",
    "evaluated. Create a function to plot output response of arbitrary function.\n"
   ]
  },
  {
   "cell_type": "code",
   "execution_count": null,
   "metadata": {},
   "outputs": [],
   "source": [
    "def plot_response(sys,u,t,title):\n",
    "    tout, y, x = ctl.forced_response(sys,t, u)\n",
    "    truncated_idx = 150  # get rid of transient\n",
    "    tout = tout[truncated_idx:]\n",
    "    u = u[truncated_idx:]\n",
    "    y = y[truncated_idx:]\n",
    "    fig, (ax1, ax2) = plt.subplots(2, figsize=(8,8))\n",
    "    fig.suptitle(title)\n",
    "    ax1.plot(tout,u,'b-')\n",
    "    ax1.grid(True)\n",
    "    ax1.set_ylabel('input')\n",
    "    \n",
    "    ax2.plot(tout,y,'r-')\n",
    "    ax2.grid(True)\n",
    "    ax2.set_ylabel('output')\n",
    "    ax2.set_xlabel('time (sec)')\n",
    "\n",
    "    plt.show()    "
   ]
  },
  {
   "cell_type": "markdown",
   "metadata": {},
   "source": [
    "From the design specifications, the required disturbance attenuation is at least 0.02 for frequency below 3 rad/s.\n",
    "Since the attenuatiton is the least at $\\omega = 3$ rad/s, we use this frequency as our test point.\n",
    "\n",
    "Recall that the closed-loop transfer function for the output disturbance response is $S(s)$.\n",
    "The plot from this cell must confirm that the controller meets this attenuation performance."
   ]
  },
  {
   "cell_type": "code",
   "execution_count": null,
   "metadata": {},
   "outputs": [],
   "source": [
    "L = C*P\n",
    "S = 1/(1+L)\n",
    "t = np.arange(0,20,0.01)  # adjust if needed\n",
    "w = 3  # rad/s\n",
    "u = np.sin(w*t)\n",
    "plot_response(S,u, t, 'Output disturbance response')"
   ]
  },
  {
   "cell_type": "markdown",
   "metadata": {},
   "source": [
    "Note : The output magnitude must swing within 0.02"
   ]
  },
  {
   "cell_type": "markdown",
   "metadata": {},
   "source": [
    "Use the same plot function on the complementary sensitivity $T(s)$ to verify that, with a noise input $u(t)=\\sin(\\omega t)$ \n",
    "where $\\omega = 200$ rad/s, the output should swing within $\\pm 0.05$ unit."
   ]
  },
  {
   "cell_type": "code",
   "execution_count": null,
   "metadata": {},
   "outputs": [],
   "source": [
    "t = np.arange(0,2,0.001) # adjust if needed\n",
    "w = 200  # rad/s\n",
    "u = np.sin(w*t)\n",
    "T = L/(1+L)\n",
    "plot_response(T,u, t, 'Noise response')"
   ]
  },
  {
   "cell_type": "code",
   "execution_count": null,
   "metadata": {},
   "outputs": [],
   "source": []
  },
  {
   "cell_type": "code",
   "execution_count": null,
   "metadata": {},
   "outputs": [],
   "source": []
  },
  {
   "cell_type": "code",
   "execution_count": null,
   "metadata": {},
   "outputs": [],
   "source": []
  },
  {
   "cell_type": "markdown",
   "metadata": {},
   "source": [
    "<p align=\"center\">\n",
    "<img src=\"https://drive.google.com/thumbnail?id=13bzT7Rmy3bzvE7TiS0yfQo94kpxMuipF\" alt=\"dewninja\"/>\n",
    "</p>\n",
    "<div align=\"center\">dew.ninja<br>Copyright 2021</div>"
   ]
  }
 ],
 "metadata": {
  "kernelspec": {
   "display_name": "Python 3.7 (controlenv)",
   "language": "python",
   "name": "controlenv"
  },
  "language_info": {
   "codemirror_mode": {
    "name": "ipython",
    "version": 3
   },
   "file_extension": ".py",
   "mimetype": "text/x-python",
   "name": "python",
   "nbconvert_exporter": "python",
   "pygments_lexer": "ipython3",
   "version": "3.7.9"
  }
 },
 "nbformat": 4,
 "nbformat_minor": 4
}
