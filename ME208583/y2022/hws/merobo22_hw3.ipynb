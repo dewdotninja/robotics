{
 "cells": [
  {
   "cell_type": "markdown",
   "id": "74ebfb88",
   "metadata": {},
   "source": [
    "<div align=\"right\">Revision 1 : September 2022</div>"
   ]
  },
  {
   "cell_type": "markdown",
   "id": "df236a64",
   "metadata": {
    "vscode": {
     "languageId": "plaintext"
    }
   },
   "source": [
    "<a href=\"https://colab.research.google.com/github/dewdotninja/robotics/blob/master/ME208583/y2022/hws/merobo22_hw3.ipynb\" target=\"_parent\"><img src=\"https://colab.research.google.com/assets/colab-badge.svg\" alt=\"Open In Colab\"/></a>"
   ]
  },
  {
   "cell_type": "markdown",
   "id": "97194d47",
   "metadata": {},
   "source": [
    "<p align=\"left\">\n",
    "<img src=\"https://raw.githubusercontent.com/dewdotninja/exams/main/feng_heading_en.png\" width=400 alt=\"Feng heading\"/>\n",
    "</p>\n",
    "\n",
    "#### Department of Mechanical Engineering\n",
    "\n",
    "### Homework 3\n",
    "First Semester, Academic Year 2022\n",
    "\n",
    "<br>**01208583 Robotics**\n",
    "\n",
    "Type student name - surname and ID in the cell below."
   ]
  },
  {
   "cell_type": "code",
   "execution_count": null,
   "id": "00d752e1",
   "metadata": {},
   "outputs": [],
   "source": []
  },
  {
   "cell_type": "markdown",
   "id": "8a09438f",
   "metadata": {},
   "source": [
    "#### Homework problems may depend on the last 3 digits of your student ID\n",
    "\n",
    "-------xyz (other digits are ignored)\n",
    "\n",
    "In case any digit in the last 3 are 0, it must be replaced by 5.\n",
    "\n",
    "#### Examples\n",
    "    \n",
    "Student A's ID - 6010555853 results in x = 8, y = 5, z = 3\n",
    "\n",
    "Student B 's ID - 6010546104 results in x = 1, y = 5, z = 4\n",
    "\n",
    "Student C 's ID - 6310055032 results in x = 5, y = 3, z = 2\n",
    "    \n",
    "These valuess are used for all the problems in the exam where x,y,and/or z appear. In this \n",
    "sense, the results from each student should be different even computed using the same methods.\n",
    "\n",
    "Operations that may be applied to the variables.\n",
    "\n",
    "$+$ addition\n",
    "\n",
    " $-$  subtraction\n",
    "\n",
    " $*$  multiplication \n",
    "\n",
    " $/$ division\n",
    "\n",
    "$**$ raise to the power (For example, x**z means $x^z$)\n",
    "\n",
    "including math opertions such as $\\exp(x)$, $\\sin(z*t)$\n",
    "\n",
    "If a variable is embedded in some digit of a value without any operation symbol, \n",
    "just replace that digit. \n",
    "<br>For example,  z=8 y = 3 $\\Rightarrow$ 12z7 = 1287, 4.3y5 = 4.335\n",
    "\n",
    "Conditional statement may be used, such as\n",
    "if x<5 do task A, otherwise do task B\n",
    "\n",
    "<em>Example: </em> Let $R1 = 1000*x \\,\\Omega, C1 = 10*y \\,\\mu F$\n",
    "\n",
    "<ul>\n",
    "<li />Student A (x=8, y=5) does this problem with R1 = 8000 $\\Omega$, C1 = 50 $\\mu$F\n",
    "<li />Student B (x=1, y=5) does this problem with R1 = 1000 $\\Omega$, C1 = 50 $\\mu$F\n",
    "<li />Student C (x=5, y=3) does this problem with R1 = 5000 $\\Omega$, C1 = 30 $\\mu$F\n",
    "</ul>\n"
   ]
  },
  {
   "cell_type": "code",
   "execution_count": null,
   "id": "46752e44",
   "metadata": {},
   "outputs": [],
   "source": [
    "# You need to install these libraries in the Colab environment\n",
    "!pip install control"
   ]
  },
  {
   "cell_type": "code",
   "execution_count": null,
   "id": "49d84df3",
   "metadata": {},
   "outputs": [],
   "source": [
    "# import libraries you want to use\n",
    "import numpy as np\n",
    "import matplotlib.pyplot as plt\n",
    "import control as ctl"
   ]
  },
  {
   "cell_type": "markdown",
   "id": "46db3fff",
   "metadata": {},
   "source": [
    "### (from previous homework)\n",
    "\n",
    "One device commonly used in industrial machines with rotary motion, such as robotic joints, is called a Harmonic Drive from a group of companies Harmonic Drive LLC. motor Hereafter, for the convenience of writing, it is abbreviated as the HDM system.\n",
    "\n",
    "Figure 1 shows the structure of the HDM mechanism consisting of three parts: a circular spline, a flexspline, and an elliptical wave generator. The wave generator is connected to the shaft of a motor that rotates at high speed. A round ring has teeth inside. Between the two are separated by an elastic ring with teeth on the outside.\n",
    "\n",
    "<p align=\"center\">\n",
    "<img src=\"https://drive.google.com/uc?id=1PtcGtTJ2iv81nLHz5Gb5mNnGeM_d5i4c\" width=300 alt=\"Figure 1\"/>\n",
    "</p>\n",
    "<div align=\"center\"><b>Figure 1 HDM structure (https://www.harmonicdrive.net/)</b></div>\n",
    "\n",
    "When drawing a schematic diagram of the HDM device connected to the DC motor, it will be shown in Figure 2. Left side is the motor's electrical system. and on the right is the mechanical system of the harmonic drive, represented by a soft shaft thru-axle gearbox with a hardness of k.\n",
    "\n",
    "<p align=\"center\">\n",
    "<img src=\"https://drive.google.com/uc?id=1OP3LsMAgsHQ5uYdmVLQFHQLq55J-kYd7\" width=550 alt=\"Figure 2\"/>\n",
    "</p>\n",
    "<div align=\"center\"><b>Figure 2 HDM block diagram </b></div>\n",
    "\n",
    "Define\n",
    "$$\n",
    "p_l(s) = J_ls^2 + B_ls + k \\tag{1}\n",
    "$$\n",
    "$$\n",
    "p_m(s) = J_ms^2 + B_ms + k \\tag{2}\n",
    "$$\n",
    "Overall transfer function of HDM can be described as \n",
    "$$\n",
    "P(s) = \\frac{\\theta_l(s)}{V(s)} = \\frac{k_mk}{p_m(s)p_l(s)(Ls+R)-k^2(Ls+R)+rk_mk_bsp_l(s)} \\tag{3}\n",
    "$$\n",
    "assign parameter values (with x, y, z from your student ID)\n",
    "\n",
    "```python\n",
    "\tkm = (y+z)*100  # torque constant\n",
    "\tkb = 1  # back EMF constant\n",
    "\tk = 1000 # torsional stiffness of harmonic drive\n",
    "\tr = x   # gear ratio\n",
    "\tR = 1  # armature resistance\n",
    "\tL = 0.1 # armature inductance\n",
    "\tJm = (x+y)  #  motor inertia\n",
    "\tBm = 0.01*y  # motor shaft friction\n",
    "\tJl = (x+z)  # load inertia\n",
    "\tBl = 0.01*z  # load friction\n",
    "```\n",
    "\n",
    "Write code to create a plant transfer function of HDM as in (3) \n",
    "\n",
    "#### Copy your solution from HW2\n"
   ]
  },
  {
   "cell_type": "code",
   "execution_count": null,
   "id": "1bed7706",
   "metadata": {},
   "outputs": [],
   "source": []
  },
  {
   "cell_type": "code",
   "execution_count": null,
   "id": "15f55965",
   "metadata": {},
   "outputs": [],
   "source": []
  },
  {
   "cell_type": "code",
   "execution_count": null,
   "id": "4a7eada6",
   "metadata": {},
   "outputs": [],
   "source": []
  },
  {
   "cell_type": "markdown",
   "id": "1a6c944b",
   "metadata": {},
   "source": [
    "#### P 1 (10 points) \n",
    "\n",
    "Figure 3 shows cascaded PID structure (for a robot joint driven by simple \n",
    "DC motor) to improve closed-loop performance.  \n",
    "\n",
    "<p align=\"center\">\n",
    "<img src=\"https://drive.google.com/uc?id=1uUQjWyLEXP1XmwUTk5KpU6Tcr84k61G7\" width=550 alt=\"Figure 4\"/>\n",
    "</p>\n",
    "<div align=\"center\"><b>Figure 3 cascaded PID control</b></div>\n",
    "\n",
    "Extract the integrator from the HDM plant in HW2 (in above cell) to use it in the outer loop \n",
    "as shown in Figure 3. The rest of the plant transfer function is in the inner-loop. For both \n",
    "loops, use the following PID equation \n",
    "\n",
    "$$\n",
    "C(s) = K_p + \\frac{K_i}{s} + \\frac{NK_d}{N/s+1}\n",
    "$$\n",
    "\n",
    "<b>Grade rubric :</b>\n",
    "\n",
    "1. Simulate the step response of closed-loop system in Figure 3 (4 points)\n",
    "2. Suppose we want to cast the specifications from HW 3 so that loopshaping procedure can \n",
    "be performed (with adjustable PID parameters instead of zeros/pole. Determine the resulting \n",
    "transfer function $C(s)$ and $P(s)$ used as arguments for lshape() (4 points)\n",
    "3. Adjust PID parameters to conform to the specifications in your HW 3 (2 points). "
   ]
  },
  {
   "cell_type": "markdown",
   "id": "b2bb487f",
   "metadata": {},
   "source": [
    "#### Solution"
   ]
  },
  {
   "cell_type": "code",
   "execution_count": null,
   "id": "09ff4943",
   "metadata": {},
   "outputs": [],
   "source": []
  },
  {
   "cell_type": "code",
   "execution_count": null,
   "id": "43935226",
   "metadata": {},
   "outputs": [],
   "source": []
  },
  {
   "cell_type": "code",
   "execution_count": null,
   "id": "2fa7c691",
   "metadata": {},
   "outputs": [],
   "source": []
  },
  {
   "cell_type": "code",
   "execution_count": null,
   "id": "de700013",
   "metadata": {},
   "outputs": [],
   "source": []
  }
 ],
 "metadata": {
  "kernelspec": {
   "display_name": "Python 3.9 (tensorflow2)",
   "language": "python",
   "name": "tensorflow2"
  },
  "language_info": {
   "codemirror_mode": {
    "name": "ipython",
    "version": 3
   },
   "file_extension": ".py",
   "mimetype": "text/x-python",
   "name": "python",
   "nbconvert_exporter": "python",
   "pygments_lexer": "ipython3",
   "version": "3.9.13"
  }
 },
 "nbformat": 4,
 "nbformat_minor": 5
}
