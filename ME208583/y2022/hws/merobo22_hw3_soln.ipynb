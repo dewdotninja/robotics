{
 "cells": [
  {
   "cell_type": "markdown",
   "id": "74ebfb88",
   "metadata": {},
   "source": [
    "<div align=\"right\">Revision 1 : September 2022</div>"
   ]
  },
  {
   "cell_type": "markdown",
   "id": "df236a64",
   "metadata": {},
   "source": [
    "<a href=\"https://colab.research.google.com/github/dewdotninja/robotics/blob/master/EMMErobo22_IUP/emmerobo22_IUP_hw4.ipynb\" target=\"_parent\"><img src=\"https://colab.research.google.com/assets/colab-badge.svg\" alt=\"Open In Colab\"/></a>"
   ]
  },
  {
   "cell_type": "markdown",
   "id": "97194d47",
   "metadata": {},
   "source": [
    "<p align=\"left\">\n",
    "<img src=\"https://raw.githubusercontent.com/dewdotninja/exams/main/feng_heading_en.png\" width=400 alt=\"Feng heading\"/>\n",
    "</p>\n",
    "\n",
    "#### Department of Mechanical Engineering\n",
    "\n",
    "### Homework 3\n",
    "First Semester, Academic Year 2022\n",
    "\n",
    "<br>**01208583 Robotics**\n",
    "\n",
    "Type student name - surname and ID in the cell below."
   ]
  },
  {
   "cell_type": "code",
   "execution_count": null,
   "id": "00d752e1",
   "metadata": {},
   "outputs": [],
   "source": [
    "#Avg Poipet 6010506258"
   ]
  },
  {
   "cell_type": "markdown",
   "id": "8a09438f",
   "metadata": {},
   "source": [
    "#### Homework problems may depend on the last 3 digits of your student ID\n",
    "\n",
    "-------xyz (other digits are ignored)\n",
    "\n",
    "In case any digit in the last 3 are 0, it must be replaced by 5.\n",
    "\n",
    "#### Examples\n",
    "    \n",
    "Student A's ID - 6010555853 results in x = 8, y = 5, z = 3\n",
    "\n",
    "Student B 's ID - 6010546104 results in x = 1, y = 5, z = 4\n",
    "\n",
    "Student C 's ID - 6310055032 results in x = 5, y = 3, z = 2\n",
    "    \n",
    "These valuess are used for all the problems in the exam where x,y,and/or z appear. In this \n",
    "sense, the results from each student should be different even computed using the same methods.\n",
    "\n",
    "Operations that may be applied to the variables.\n",
    "\n",
    "$+$ addition\n",
    "\n",
    " $-$  subtraction\n",
    "\n",
    " $*$  multiplication \n",
    "\n",
    " $/$ division\n",
    "\n",
    "$**$ raise to the power (For example, x**z means $x^z$)\n",
    "\n",
    "including math opertions such as $\\exp(x)$, $\\sin(z*t)$\n",
    "\n",
    "If a variable is embedded in some digit of a value without any operation symbol, \n",
    "just replace that digit. \n",
    "<br>For example,  z=8 y = 3 $\\Rightarrow$ 12z7 = 1287, 4.3y5 = 4.335\n",
    "\n",
    "Conditional statement may be used, such as\n",
    "if x<5 do task A, otherwise do task B\n",
    "\n",
    "<em>Example: </em> Let $R1 = 1000*x \\,\\Omega, C1 = 10*y \\,\\mu F$\n",
    "\n",
    "<ul>\n",
    "<li />Student A (x=8, y=5) does this problem with R1 = 8000 $\\Omega$, C1 = 50 $\\mu$F\n",
    "<li />Student B (x=1, y=5) does this problem with R1 = 1000 $\\Omega$, C1 = 50 $\\mu$F\n",
    "<li />Student C (x=5, y=3) does this problem with R1 = 5000 $\\Omega$, C1 = 30 $\\mu$F\n",
    "</ul>\n"
   ]
  },
  {
   "cell_type": "code",
   "execution_count": null,
   "id": "46752e44",
   "metadata": {},
   "outputs": [],
   "source": [
    "# You need to install these libraries in the Colab environment\n",
    "!pip install control"
   ]
  },
  {
   "cell_type": "code",
   "execution_count": 1,
   "id": "49d84df3",
   "metadata": {},
   "outputs": [],
   "source": [
    "# import libraries you want to use\n",
    "import numpy as np\n",
    "import matplotlib.pyplot as plt\n",
    "import control as ctl"
   ]
  },
  {
   "cell_type": "code",
   "execution_count": 2,
   "id": "6b2ef307",
   "metadata": {},
   "outputs": [],
   "source": [
    "#Assume student ID 6010506258\n",
    "id_x = 2\n",
    "id_y = 5\n",
    "id_z = 8"
   ]
  },
  {
   "cell_type": "markdown",
   "id": "46db3fff",
   "metadata": {},
   "source": [
    "### (from previous homework)\n",
    "\n",
    "One device commonly used in industrial machines with rotary motion, such as robotic joints, is called a Harmonic Drive from a group of companies Harmonic Drive LLC. motor Hereafter, for the convenience of writing, it is abbreviated as the HDM system.\n",
    "\n",
    "Figure 1 shows the structure of the HDM mechanism consisting of three parts: a circular spline, a flexspline, and an elliptical wave generator. The wave generator is connected to the shaft of a motor that rotates at high speed. A round ring has teeth inside. Between the two are separated by an elastic ring with teeth on the outside.\n",
    "\n",
    "<p align=\"center\">\n",
    "<img src=\"https://drive.google.com/uc?id=1PtcGtTJ2iv81nLHz5Gb5mNnGeM_d5i4c\" width=300 alt=\"Figure 1\"/>\n",
    "</p>\n",
    "<div align=\"center\"><b>Figure 1 HDM structure (https://www.harmonicdrive.net/)</b></div>\n",
    "\n",
    "When drawing a schematic diagram of the HDM device connected to the DC motor, it will be shown in Figure 2. Left side is the motor's electrical system. and on the right is the mechanical system of the harmonic drive, represented by a soft shaft thru-axle gearbox with a hardness of k.\n",
    "\n",
    "<p align=\"center\">\n",
    "<img src=\"https://drive.google.com/uc?id=1OP3LsMAgsHQ5uYdmVLQFHQLq55J-kYd7\" width=550 alt=\"Figure 2\"/>\n",
    "</p>\n",
    "<div align=\"center\"><b>Figure 2 HDM block diagram </b></div>\n",
    "\n",
    "Define\n",
    "$$\n",
    "p_l(s) = J_ls^2 + B_ls + k \\tag{1}\n",
    "$$\n",
    "$$\n",
    "p_m(s) = J_ms^2 + B_ms + k \\tag{2}\n",
    "$$\n",
    "Overall transfer function of HDM can be described as \n",
    "$$\n",
    "P(s) = \\frac{\\theta_l(s)}{V(s)} = \\frac{k_mk}{p_m(s)p_l(s)(Ls+R)-k^2(Ls+R)+rk_mk_bsp_l(s)} \\tag{3}\n",
    "$$\n",
    "assign parameter values (with x, y, z from your student ID)\n",
    "\n",
    "```python\n",
    "\tkm = (y+z)*100  # torque constant\n",
    "\tkb = 1  # back EMF constant\n",
    "\tk = 1000 # torsional stiffness of harmonic drive\n",
    "\tr = x   # gear ratio\n",
    "\tR = 1  # armature resistance\n",
    "\tL = 0.1 # armature inductance\n",
    "\tJm = (x+y)  #  motor inertia\n",
    "\tBm = 0.01*y  # motor shaft friction\n",
    "\tJl = (x+z)  # load inertia\n",
    "\tBl = 0.01*z  # load friction\n",
    "```\n",
    "\n",
    "Write code to create a plant transfer function of HDM as in (3) \n",
    "\n",
    "#### Copy your solution from HW2\n"
   ]
  },
  {
   "cell_type": "code",
   "execution_count": 3,
   "id": "1bed7706",
   "metadata": {},
   "outputs": [
    {
     "data": {
      "text/latex": [
       "$$\\frac{1.3 \\times 10^{6}}{7 s^5 + 70.11 s^4 + 2.77 \\times 10^{4} s^3 + 1.722 \\times 10^{4} s^2 + 2.6 \\times 10^{6} s}$$"
      ],
      "text/plain": [
       "TransferFunction(array([1300000]), array([7.00000000e+00, 7.01060000e+01, 2.77010604e+04, 1.72210040e+04,\n",
       "       2.60013000e+06, 0.00000000e+00]))"
      ]
     },
     "execution_count": 3,
     "metadata": {},
     "output_type": "execute_result"
    }
   ],
   "source": [
    "km = (id_y+id_z)*100  # torque constant\n",
    "kb = 1  # back EMF constant\n",
    "k = 1000 # torsional stiffness of harmonic drive\n",
    "r = id_x   # gear ratio\n",
    "R = 1  # armature resistance\n",
    "L = 0.1 # armature inductance\n",
    "Jm = (id_x+id_y)  #  motor inertia\n",
    "Bm = 0.01*id_y  # motor shaft friction\n",
    "Jl = (id_x+id_z)  # load inertia\n",
    "Bl = 0.01*id_z  # load friction\t\n",
    "s = ctl.tf(\"s\")\n",
    "p_l = Jl*s**2 + Bl*s + k\n",
    "p_m = Jm*s**2 + Bm*s + k\n",
    "P = km*k/(p_m*p_l*(L*s+R) - (k**2)*(L*s+R) + r*km*kb*s*p_l)\n",
    "P"
   ]
  },
  {
   "cell_type": "code",
   "execution_count": null,
   "id": "15f55965",
   "metadata": {},
   "outputs": [],
   "source": []
  },
  {
   "cell_type": "code",
   "execution_count": null,
   "id": "4a7eada6",
   "metadata": {},
   "outputs": [],
   "source": []
  },
  {
   "cell_type": "markdown",
   "id": "1a6c944b",
   "metadata": {},
   "source": [
    "#### P 1 (10 points) \n",
    "\n",
    "Figure 3 shows cascaded PID structure (for a robot joint driven by simple \n",
    "DC motor) to improve closed-loop performance.  \n",
    "\n",
    "<p align=\"center\">\n",
    "<img src=\"https://drive.google.com/uc?id=1uUQjWyLEXP1XmwUTk5KpU6Tcr84k61G7\" width=550 alt=\"Figure 4\"/>\n",
    "</p>\n",
    "<div align=\"center\"><b>Figure 3 cascaded PID control</b></div>\n",
    "\n",
    "Extract the integrator from the HDM plant in HW2 (in above cell) to use it in the outer loop \n",
    "as shown in Figure 3. The rest of the plant transfer function is in the inner-loop. For both \n",
    "loops, use the following PID equation \n",
    "\n",
    "$$\n",
    "C(s) = K_p + \\frac{K_i}{s} + \\frac{NK_d}{N/s+1}\n",
    "$$\n",
    "\n",
    "<b>Grade rubric :</b>\n",
    "\n",
    "1. Simulate the step response of closed-loop system in Figure 3 (4 points)\n",
    "2. Suppose we want to cast the specifications from HW 2 so that loopshaping procedure can \n",
    "be performed (with adjustable PID parameters instead of zeros/pole. Determine the resulting \n",
    "transfer function $C(s)$ and $P(s)$ used as arguments for lshape() (4 points)\n",
    "3. Adjust PID parameters to conform to the specifications in your HW 2 (2 points). "
   ]
  },
  {
   "cell_type": "markdown",
   "id": "b2bb487f",
   "metadata": {},
   "source": [
    "#### Solution"
   ]
  },
  {
   "cell_type": "markdown",
   "id": "cc0e97d9",
   "metadata": {},
   "source": [
    "Create a PID function to be used in simulation."
   ]
  },
  {
   "cell_type": "code",
   "execution_count": 4,
   "id": "43935226",
   "metadata": {},
   "outputs": [],
   "source": [
    "def PID(kp, ki,kd,N):\n",
    "    s = ctl.tf(\"s\")\n",
    "    C = kp + ki/s + kd*s*N/(s+N)\n",
    "    return C"
   ]
  },
  {
   "cell_type": "markdown",
   "id": "55ce0a6e",
   "metadata": {},
   "source": [
    "Consider the HDM plant from P1. Factorize it as \n",
    "$$\n",
    "P(s) = P_{inner}(s)\\frac{1}{s}\n",
    "$$\n",
    "So can find $P_{inner}(s)$ from\n",
    "$$\n",
    "P_{inner}(s) = sP(s)\n",
    "$$"
   ]
  },
  {
   "cell_type": "code",
   "execution_count": 5,
   "id": "de700013",
   "metadata": {},
   "outputs": [
    {
     "name": "stdout",
     "output_type": "stream",
     "text": [
      "1 states have been removed from the model\n"
     ]
    },
    {
     "data": {
      "text/latex": [
       "$$\\frac{1.857 \\times 10^{5}}{s^4 + 10.02 s^3 + 3957 s^2 + 2460 s + 3.714 \\times 10^{5}}$$"
      ],
      "text/plain": [
       "TransferFunction(array([185714.28571429]), array([1.00000000e+00, 1.00151429e+01, 3.95729434e+03, 2.46014343e+03,\n",
       "       3.71447143e+05]))"
      ]
     },
     "execution_count": 5,
     "metadata": {},
     "output_type": "execute_result"
    }
   ],
   "source": [
    "P_inner = ctl.minreal(s*P)\n",
    "P_inner"
   ]
  },
  {
   "cell_type": "markdown",
   "id": "21aa2b95",
   "metadata": {},
   "source": [
    "Construct cascaded PID to simulate the response."
   ]
  },
  {
   "cell_type": "code",
   "execution_count": 6,
   "id": "9e5d1016",
   "metadata": {},
   "outputs": [],
   "source": [
    "# It may be quite tedious to get a set of decent parameters. \n",
    "Kp1 = 2.3\n",
    "Ki1 = 0.8\n",
    "Kd1 = 0.6\n",
    "N1 = 20\n",
    "Kp2 = 1.6\n",
    "Ki2 = 1.3\n",
    "Kd2 = 0.1\n",
    "N2 = 20"
   ]
  },
  {
   "cell_type": "code",
   "execution_count": 7,
   "id": "7a6de841",
   "metadata": {},
   "outputs": [
    {
     "name": "stdout",
     "output_type": "stream",
     "text": [
      "0 states have been removed from the model\n"
     ]
    },
    {
     "data": {
      "image/png": "[encoded data removed]",
      "text/plain": [
       "<Figure size 576x288 with 1 Axes>"
      ]
     },
     "metadata": {
      "needs_background": "light"
     },
     "output_type": "display_data"
    }
   ],
   "source": [
    "C_pid1 = PID(Kp1,Ki1,Kd1,N1)\n",
    "L_inner = C_pid1*P_inner\n",
    "T_inner = ctl.feedback(L_inner)\n",
    "C_pid2 = PID(Kp2,Ki2,Kd2,N2)\n",
    "L_outer = C_pid2*T_inner*(1/s)\n",
    "T_outer = ctl.minreal(ctl.feedback(L_outer))\n",
    "tvec_5 = np.arange(0,20,0.001)\n",
    "t_5, y_5 = ctl.step_response(T_outer,tvec_5)\n",
    "r_5 = np.ones(t_5.shape)\n",
    "plt.figure(figsize=(8,4))\n",
    "plt.plot(t_5,r_5,'b-.',t_5,y_5,'r-')\n",
    "plt.grid('True')\n",
    "plt.xlabel('time (sec)')\n",
    "plt.ylabel('output')\n",
    "plt.legend(['step ref.','y(t)'])\n",
    "plt.title('Closed-loop step response')\n",
    "plt.show()"
   ]
  },
  {
   "cell_type": "markdown",
   "id": "5cf979a0",
   "metadata": {},
   "source": [
    "Adjust PID parameters for both loops to meet the specs in P2. From figure 3, we see that $C(s)$ and $P(s)$ that are supplied as arguments of lshape() are \n",
    "\n",
    "\n",
    "$$\n",
    "C(s) = C_{pid2}(s)T_{inner}(s)\n",
    "$$\n",
    "$$\n",
    "P(s) = \\frac{1}{s}\n",
    "$$"
   ]
  },
  {
   "cell_type": "code",
   "execution_count": 9,
   "id": "8d2b1fab",
   "metadata": {},
   "outputs": [],
   "source": [
    "def lshape(C,P, lf, lfb, hf, hfb, pm ):\n",
    "    assert lf > 0   # avoid bad values\n",
    "    assert lfb > 0\n",
    "    assert hf > lf\n",
    "    assert hfb < 0\n",
    "    assert 0 < pm < 90\n",
    "    L = C*P # form loop transfer function\n",
    "    # create a suitable range of frequency from lf, hf\n",
    "    lf_log10 = np.log10(lf)\n",
    "    w_start = np.floor(lf_log10)-1\n",
    "    hf_log10 = np.log10(hf)\n",
    "    w_end = np.ceil(hf_log10)+1\n",
    "    w = np.logspace(w_start,w_end, 1000)\n",
    "    \n",
    "    # frequency response of L\n",
    "    Lmag, Lph, om = ctl.freqresp(L, w)\n",
    "    Lmag_db = np.squeeze(20*np.log10(Lmag))\n",
    "    Lph_deg = np.squeeze(np.degrees(Lph))\n",
    "    \n",
    "    # create bound vectors\n",
    "    lf_mask = np.where(om<lf, lfb, 0)\n",
    "    hf_mask = np.where(om<hf, 0, hfb)\n",
    "    lf_bnd = lf_mask*np.ones(om.shape)\n",
    "    hf_bnd = hf_mask*np.ones(om.shape)\n",
    "    \n",
    "    # check whether violation occurs\n",
    "    lf_idxv = np.where(om>lf)\n",
    "    lf_idx = lf_idxv[0][0]   # find index of low-freq region\n",
    "    hf_idxv = np.where(om<hf)\n",
    "    hf_idx = hf_idxv[0][-1]  # find index of high-freq region\n",
    "    lfmag = Lmag_db[:lf_idx]\n",
    "    hfmag = Lmag_db[hf_idx:]\n",
    "    if min(lfmag)<lfb:\n",
    "        lf_legend = \"LF bound (violated)\"\n",
    "    else:\n",
    "        lf_legend = \"LF bound\"\n",
    "    if max(hfmag)>hfb:\n",
    "        hf_legend = \"HF bound (violated)\"\n",
    "    else:\n",
    "        hf_legend = \"HF bound\"    \n",
    "    \n",
    "    # desired phase margin vectors\n",
    "    pmvec = (pm-180)*np.ones(om.shape)\n",
    "    \n",
    "    # compute gain/phase margins\n",
    "    g_margin, ph_margin, wgm, wpm = ctl.margin(L)\n",
    "    ph_at_crossover = (ph_margin-180)\n",
    "    # Loopshaping plot\n",
    "    fig, (ax1, ax2) = plt.subplots(2, figsize=(8,8))\n",
    "    fig.suptitle('$L(j\\omega)$ v.s. bounds')\n",
    "    ax1.semilogx(om, Lmag_db,'k-', om, lf_bnd, 'm-.', om, hf_bnd,'b-.')\n",
    "    ax1.legend([\"$|L(j\\omega)|$\",lf_legend,hf_legend],loc=\"lower left\")\n",
    "    ax1.grid(True)\n",
    "    ax1.set_ylabel('magnitude (dB)')\n",
    "    \n",
    "    ax2.semilogx(om, Lph_deg,'k-',om, pmvec,'b-', wpm, ph_at_crossover,'r*')\n",
    "    if ph_margin > pm:\n",
    "        pmtext = \"phase margin = \" + str(round(ph_margin)) + \" degrees\"\n",
    "    else:\n",
    "        pmtext = \"phase margin = \" + str(round(ph_margin)) + \" degrees (violated)\"\n",
    "        \n",
    "    ax2.text(wpm,ph_at_crossover,pmtext)\n",
    "    \n",
    "    dpmtext = \"Desired PM (\" + str(pm) + \" degrees)\"\n",
    "    ax2.set_xlabel('frequency (rad/s)')\n",
    "    ax2.set_ylabel('phase (deg)')\n",
    "    ax2.legend([\"$\\measuredangle L(j\\omega)$\",dpmtext],loc=\"lower left\")\n",
    "    ax2.grid(True)    \n",
    "    \n",
    "    # plot magnitude of S and T v.s bounds\n",
    "    S = 1/(1+L)\n",
    "    T = L/(1+L)\n",
    "    \n",
    "    # frequency responses of S and T\n",
    "    Smag, Sph, om = ctl.freqresp(S, w)\n",
    "    Tmag, Tph, om = ctl.freqresp(T, w)\n",
    "    \n",
    "    Smag_db = np.squeeze(20*np.log10(Smag))\n",
    "    Tmag_db = np.squeeze(20*np.log10(Tmag))\n",
    "   \n",
    "    # check whether violation occurs\n",
    "    lf_idxv = np.where(om>lf)\n",
    "    lf_idx = lf_idxv[0][0]   # find index of low-freq region\n",
    "    hf_idxv = np.where(om<hf)\n",
    "    hf_idx = hf_idxv[0][-1]  # find index of high-freq region\n",
    "    lfSmag = Smag_db[:lf_idx]\n",
    "    hfTmag = Tmag_db[hf_idx:]\n",
    "    if max(lfSmag)>-lfb:\n",
    "        lf_legend = \"LF bound (violated)\"\n",
    "    else:\n",
    "        lf_legend = \"LF bound\"\n",
    "    if max(hfTmag)>hfb:\n",
    "        hf_legend = \"HF bound (violated)\"\n",
    "    else:\n",
    "        hf_legend = \"HF bound\"    \n",
    "        \n",
    "    # create data vector for stability bound in mid freq region\n",
    "    \n",
    "    om_mid = om[lf_idx:hf_idx]\n",
    "    pm_r = np.radians(pm)\n",
    "    x = np.sin(0.5*(np.pi - pm_r))/(np.sin(pm_r)) \n",
    "    x = 20*np.log10(x)\n",
    "    bnds_mid = x*np.ones(om_mid.shape)\n",
    "    \n",
    "    ST_peak = max(max(Smag_db),max(Tmag_db))\n",
    "    if ST_peak > x:\n",
    "        mf_legend = \"Stability bound (violated)\"\n",
    "    else:\n",
    "        mf_legend = \"Stability bound\"\n",
    "    \n",
    "    plt.figure(figsize=(8,4))\n",
    "    plt.semilogx(om,Smag_db,'k-',om,Tmag_db,'g-',om,-lf_bnd,'m-.',om,hf_bnd,'b-.',om_mid,bnds_mid,'r-.')\n",
    "    plt.xlabel('frequency (rad/s)')\n",
    "    plt.ylabel('magnitude (dB)')\n",
    "    plt.legend([\"$|S(j\\omega)|$\",\"$|T(j\\omega)|$\",lf_legend,hf_legend, mf_legend])\n",
    "    plt.grid(True)\n",
    "    plt.title('$|S(j\\omega)|$ and $|T(j\\omega)|$ v.s. bounds')\n",
    "    plt.show()\n"
   ]
  },
  {
   "cell_type": "code",
   "execution_count": 11,
   "id": "776c89bd",
   "metadata": {},
   "outputs": [
    {
     "name": "stdout",
     "output_type": "stream",
     "text": [
      "Low frequency bound on S = -26.020599913279625 dB\n",
      "Low frequency bound on L = 26.020599913279625 dB\n"
     ]
    }
   ],
   "source": [
    "# From student ID x = 2, y=5, z = 8\n",
    "\n",
    "S_bnd_abs = 0.01*id_y\n",
    "\n",
    "# compute bounds\n",
    "S_bnd = 20*np.log10(S_bnd_abs)\n",
    "L_bnd = -S_bnd\n",
    "print(\"Low frequency bound on S = \" + str(S_bnd) + \" dB\")\n",
    "print(\"Low frequency bound on L = \" + str(L_bnd) + \" dB\")"
   ]
  },
  {
   "cell_type": "markdown",
   "id": "a498eb74",
   "metadata": {},
   "source": [
    "Design criteria for this problem can be casted as\n",
    "\n",
    "1. An integrator must be in $L(s)$. ($P(s)$ already has one, though we may want another one in $C(s)$ to achieve steeper $|L(j\\omega)|$ in low-frequency region\n",
    "2. In low frequency region below 0.2 rad/s, $|L(j\\omega)|$ should lie below 26 dB\n",
    "3. It can be observed from **P1.3** that the lower-frequency lightly-damped mode happens around 10 rad/s, so we choose hf=10 and hfb = -3 dB.\n",
    "4. Phase margin at least 30 degrees."
   ]
  },
  {
   "cell_type": "code",
   "execution_count": 12,
   "id": "92cc128e",
   "metadata": {},
   "outputs": [],
   "source": [
    "lf = 0.2\n",
    "lfb = 26\n",
    "hf = 10 \n",
    "hfb = -3\n",
    "pm = 30"
   ]
  },
  {
   "cell_type": "code",
   "execution_count": 13,
   "id": "75e1f8d6",
   "metadata": {},
   "outputs": [
    {
     "data": {
      "image/png": "[encoded data removed]",
      "text/plain": [
       "<Figure size 576x576 with 2 Axes>"
      ]
     },
     "metadata": {
      "needs_background": "light"
     },
     "output_type": "display_data"
    },
    {
     "data": {
      "image/png": "[encoded data removed]",
      "text/plain": [
       "<Figure size 576x288 with 1 Axes>"
      ]
     },
     "metadata": {
      "needs_background": "light"
     },
     "output_type": "display_data"
    }
   ],
   "source": [
    "C_5 = C_pid2*T_inner\n",
    "P_5 = 1/s\n",
    "lshape(C_5, P_5, lf, lfb, hf, hfb, pm)"
   ]
  },
  {
   "cell_type": "markdown",
   "id": "a1806188",
   "metadata": {},
   "source": [
    "From some experiment, we found that $Kp_1 = 2.3, Ki_1 = 0.8, Kd_1 = 0.6, N_1 = 20$ และ $Kp_2 = 1.6, Ki_2 = 1.3, Kd_2 = 0.1, N_2 = 20$  made lshape() meet the specs in HW2."
   ]
  },
  {
   "cell_type": "code",
   "execution_count": null,
   "id": "6bd8e2e0",
   "metadata": {},
   "outputs": [],
   "source": []
  },
  {
   "cell_type": "code",
   "execution_count": null,
   "id": "5f800717",
   "metadata": {},
   "outputs": [],
   "source": []
  }
 ],
 "metadata": {
  "kernelspec": {
   "display_name": "Python 3.10 (tensorflow)",
   "language": "python",
   "name": "tensorflow"
  },
  "language_info": {
   "codemirror_mode": {
    "name": "ipython",
    "version": 3
   },
   "file_extension": ".py",
   "mimetype": "text/x-python",
   "name": "python",
   "nbconvert_exporter": "python",
   "pygments_lexer": "ipython3",
   "version": "3.10.4"
  }
 },
 "nbformat": 4,
 "nbformat_minor": 5
}
