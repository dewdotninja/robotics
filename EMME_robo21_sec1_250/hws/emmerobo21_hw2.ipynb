{
 "cells": [
  {
   "cell_type": "markdown",
   "metadata": {},
   "source": [
    "<div align=\"right\">July 2021</div>"
   ]
  },
  {
   "cell_type": "markdown",
   "metadata": {},
   "source": [
    "<a href=\"https://colab.research.google.com/github/dewdotninja/robotics/blob/master/EMME_robo21_sec1_250/hws/emmerobo21_hw2.ipynb\" target=\"_parent\"><img src=\"https://colab.research.google.com/assets/colab-badge.svg\" alt=\"Open In Colab\"/></a>"
   ]
  },
  {
   "cell_type": "markdown",
   "metadata": {},
   "source": [
    "### 01211433 Homework 2\n",
    "\n",
    "รูปที่ 1 แสดงการจำลองสมรรถนะการลดทอนการรบกวนที่เอาต์พุตของพลานต์โดย Scilab/xcos \n",
    "\n",
    "<p align=\"center\">\n",
    "<img src=\"https://drive.google.com/uc?id=1FiFN4_1OXSiubdQ7sgwTRJ7tIqEGbTi8\" width=500 alt=\"Figure 1\"/>\n",
    "</p>\n",
    "<div align=\"center\"><b>รูปที่ 1 การลดทอนการรบกวนที่เอาต์พุตของพลานต์</b></div>\n",
    "\n",
    "ต้องการจำลองผลตอบสนองโดย Python ใช้ฟังก์ชันถ่ายโอนของพลานต์และตัวควบคุม\n",
    "เหมือนในรูปที่ 1 คือ $P(s) = \\frac{1}{10s^2+0.1s}$ และ $C(s) = \\frac{20000(s+0.01)}{(s+100)}$ \n",
    "โดยสนใจเพียงสมรรถนะการลดทอนการรบกวน ดังนั้นไม่ต้องมี step input เอาต์พุตที่คาดหวัง\n",
    "คือสำหรับการรบกวนขั้นบันได เอาต์พุตจะเข้าสู่ศูนย์ในสถานะนิ่ง และสำหรับการรบกวนรูปคลื่นไซน์ความถี่ต่ำ เอาต์พุตจะมีขนาดเล็ก\n",
    "กว่าอินพุต (ในการบ้านนี้ยังไม่กำหนดย่านความถี่และอัตราการลดทอน ซึ่งจะเป็นเนื้อหาของ lecture 3)\n",
    "\n",
    "หมายเหตุ : เพื่อความง่ายสามารถให้การรบกวนเริ่มต้นตั้งแต่ t = 0\n",
    "\n",
    "##### Solution :\n",
    "\n",
    "ถ้าใช้ colab ให้ติดตั้ง Python Control Library โดยรันเซลนี้"
   ]
  },
  {
   "cell_type": "code",
   "execution_count": null,
   "metadata": {},
   "outputs": [],
   "source": [
    "#pip install control"
   ]
  },
  {
   "cell_type": "markdown",
   "metadata": {},
   "source": [
    "นำเข้าแพ็คเกจที่ต้องการใช้งาน"
   ]
  },
  {
   "cell_type": "code",
   "execution_count": null,
   "metadata": {},
   "outputs": [],
   "source": [
    "import numpy as np\n",
    "import matplotlib.pyplot as plt\n",
    "import control as ctl"
   ]
  },
  {
   "cell_type": "markdown",
   "metadata": {},
   "source": [
    "สร้างพลานต์และตัวควบคุม"
   ]
  },
  {
   "cell_type": "code",
   "execution_count": null,
   "metadata": {},
   "outputs": [],
   "source": [
    "# เพิ่มโค้ดในเซลนี้"
   ]
  },
  {
   "cell_type": "markdown",
   "metadata": {},
   "source": [
    "สร้างฟังก์ชันถ่ายโอนที่เป็นตัวส่งจากสัญญาณรบกวนที่เอาต์พุต $d_o(s)$ ไปยังเอาต์พุต $y(s)$\n"
   ]
  },
  {
   "cell_type": "code",
   "execution_count": null,
   "metadata": {},
   "outputs": [],
   "source": [
    "# เพิ่มโค้ดในเซลนี้"
   ]
  },
  {
   "cell_type": "markdown",
   "metadata": {},
   "source": [
    "ใช้ฟังก์ชันในเซลด้านล่างนี้ในการพล็อต โดยมีอาร์กิวเมนต์ดังนี้\n",
    "* sys : ฟังก์ชันถ่ายโอนจาก $d_o$ ไปยัง $y$\n",
    "* u : เวกเตอร์ของสัญญาณ $d_o$ เป็น 1. ค่าคงที่ไม่เท่ากับศูนย์ 2. สัญญาณรูปคลื่นไซน์ความถี่ต่ำ\n",
    "* t : เวกเตอร์ของเวลา "
   ]
  },
  {
   "cell_type": "code",
   "execution_count": null,
   "metadata": {},
   "outputs": [],
   "source": [
    "# โค้ดในฟังก์ชันนี้สมบูรณ์แล้ว ไม่ต้องแก้ไขเพิ่มเติมใดๆ\n",
    "def plot_response(sys,u,t,title=\"disturbance response\"):\n",
    "    tout, y = ctl.forced_response(sys,t, u)\n",
    "    truncated_idx = 150  # get rid of transient\n",
    "    tout = tout[truncated_idx:]\n",
    "    u = u[truncated_idx:]\n",
    "    y = y[truncated_idx:]\n",
    "    fig, (ax1, ax2) = plt.subplots(2, figsize=(8,8))\n",
    "    fig.suptitle(title)\n",
    "    ax1.plot(tout,u,'b-')\n",
    "    ax1.grid(True)\n",
    "    ax1.set_ylabel('input')\n",
    "    \n",
    "    ax2.plot(tout,y,'r-')\n",
    "    ax2.grid(True)\n",
    "    ax2.set_ylabel('output')\n",
    "    ax2.set_xlabel('time (sec)')\n",
    "\n",
    "    plt.show()    "
   ]
  },
  {
   "cell_type": "markdown",
   "metadata": {},
   "source": [
    "1. สร้างเวกเตอร์เวลา และเวกเตอร์การรบกวนเอาต์พุตที่เป็นค่าคงที่"
   ]
  },
  {
   "cell_type": "code",
   "execution_count": null,
   "metadata": {},
   "outputs": [],
   "source": [
    "t = # สร้างเวกเตอร์เวลา\n",
    "u = # สร้างเวกเตอร์สำหรับ d_o เป็นค่าคงที่\n"
   ]
  },
  {
   "cell_type": "markdown",
   "metadata": {},
   "source": [
    "พล็อตผลตอบสนองโดยฟังก์ชัน plot_response()"
   ]
  },
  {
   "cell_type": "code",
   "execution_count": null,
   "metadata": {},
   "outputs": [],
   "source": [
    "plot_response(?,u,t) # แทนค่าเครื่องหมายคำถามด้วยฟังก์ชันถ่ายโอนที่ถูกต้อง"
   ]
  },
  {
   "cell_type": "markdown",
   "metadata": {},
   "source": [
    "2. ใช้เวกเตอร์เวลาเดิมที่สร้างในข้อ 1. สร้างเวกเตอร์อินพุตเป็นรูปคลื่นไซน์ความถี่ต่ำ (เช่น 1 rad/s)"
   ]
  },
  {
   "cell_type": "code",
   "execution_count": null,
   "metadata": {},
   "outputs": [],
   "source": [
    "u = # สร้างเวกเตอร์สำหรับ d_o เป็นรูปคลื่นไซน์"
   ]
  },
  {
   "cell_type": "markdown",
   "metadata": {},
   "source": [
    "พล็อตผลตอบสนองโดยฟังก์ชัน plot_response() "
   ]
  },
  {
   "cell_type": "code",
   "execution_count": null,
   "metadata": {},
   "outputs": [],
   "source": [
    "plot_response(?,u,t) # แทนค่าเครื่องหมายคำถามด้วยฟังก์ชันถ่ายโอนที่ถูกต้อง"
   ]
  },
  {
   "cell_type": "code",
   "execution_count": null,
   "metadata": {},
   "outputs": [],
   "source": []
  }
 ],
 "metadata": {
  "kernelspec": {
   "display_name": "Python 3.7 (controlenv)",
   "language": "python",
   "name": "controlenv"
  },
  "language_info": {
   "codemirror_mode": {
    "name": "ipython",
    "version": 3
   },
   "file_extension": ".py",
   "mimetype": "text/x-python",
   "name": "python",
   "nbconvert_exporter": "python",
   "pygments_lexer": "ipython3",
   "version": "3.7.9"
  }
 },
 "nbformat": 4,
 "nbformat_minor": 5
}
